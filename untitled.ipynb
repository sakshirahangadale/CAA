{
  "nbformat": 4,
  "nbformat_minor": 0,
  "metadata": {
    "colab": {
      "provenance": [],
      "authorship_tag": "ABX9TyPJ6YOoMLscvrNN076lSd6N",
      "include_colab_link": true
    },
    "kernelspec": {
      "name": "python3",
      "display_name": "Python 3"
    },
    "language_info": {
      "name": "python"
    }
  },
  "cells": [
    {
      "cell_type": "markdown",
      "metadata": {
        "id": "view-in-github",
        "colab_type": "text"
      },
      "source": [
        "<a href=\"https://colab.research.google.com/github/sakshirahangadale/CAA/blob/main/untitled.ipynb\" target=\"_parent\"><img src=\"https://colab.research.google.com/assets/colab-badge.svg\" alt=\"Open In Colab\"/></a>"
      ]
    },
    {
      "cell_type": "code",
      "execution_count": null,
      "metadata": {
        "id": "fGZ5TAheKbui"
      },
      "outputs": [],
      "source": [
        "# why python\n",
        "#invented by 1989\n",
        "# 1 Design Philoshy , Batteries included,General Purpose, use game website, Libraries/Community, oustal community most libraries,data science\n",
        "# why is use pythen , Easy to learn,Proximity with Maths, Community,"
      ]
    },
    {
      "cell_type": "markdown",
      "source": [
        "1.Python Output"
      ],
      "metadata": {
        "id": "lPlG7UMJNi3E"
      }
    },
    {
      "cell_type": "code",
      "source": [
        "# python is case sensitative language\n",
        "print('hello world')\n",
        "\n"
      ],
      "metadata": {
        "colab": {
          "base_uri": "https://localhost:8080/"
        },
        "id": "EYHzRAGINc5D",
        "outputId": "878ff217-45c8-4724-8420-37a7b3783c6b"
      },
      "execution_count": 1,
      "outputs": [
        {
          "output_type": "stream",
          "name": "stdout",
          "text": [
            "hello world\n"
          ]
        }
      ]
    },
    {
      "cell_type": "code",
      "source": [
        "print('sakshi')"
      ],
      "metadata": {
        "colab": {
          "base_uri": "https://localhost:8080/"
        },
        "id": "wRtB1zUhOKLb",
        "outputId": "d6dbbd2f-1438-496d-8558-8a2567e57cc3"
      },
      "execution_count": 2,
      "outputs": [
        {
          "output_type": "stream",
          "name": "stdout",
          "text": [
            "sakshi\n"
          ]
        }
      ]
    },
    {
      "cell_type": "code",
      "source": [
        "print(7)"
      ],
      "metadata": {
        "colab": {
          "base_uri": "https://localhost:8080/"
        },
        "id": "uk-IvAX3OKQM",
        "outputId": "d8ecf1b9-30a0-4b5e-f738-c1e683fc9714"
      },
      "execution_count": 3,
      "outputs": [
        {
          "output_type": "stream",
          "name": "stdout",
          "text": [
            "7\n"
          ]
        }
      ]
    },
    {
      "cell_type": "code",
      "source": [
        "print(5.9)"
      ],
      "metadata": {
        "colab": {
          "base_uri": "https://localhost:8080/"
        },
        "id": "08Rg4NzNOU9N",
        "outputId": "8c049ff0-f04e-4cc8-c975-dd2d19a9f27b"
      },
      "execution_count": 4,
      "outputs": [
        {
          "output_type": "stream",
          "name": "stdout",
          "text": [
            "5.9\n"
          ]
        }
      ]
    },
    {
      "cell_type": "code",
      "source": [
        "print(True)"
      ],
      "metadata": {
        "colab": {
          "base_uri": "https://localhost:8080/"
        },
        "id": "zWvz5R-OOU_u",
        "outputId": "86af47e9-bcb4-49f1-f6fa-231fc763fbbf"
      },
      "execution_count": 5,
      "outputs": [
        {
          "output_type": "stream",
          "name": "stdout",
          "text": [
            "True\n"
          ]
        }
      ]
    },
    {
      "cell_type": "code",
      "source": [
        "print('hello world',1,2,3,True)"
      ],
      "metadata": {
        "colab": {
          "base_uri": "https://localhost:8080/"
        },
        "id": "tHn1JML1OVCu",
        "outputId": "46521184-1847-48e7-ae46-b95648dba266"
      },
      "execution_count": 6,
      "outputs": [
        {
          "output_type": "stream",
          "name": "stdout",
          "text": [
            "hello world 1 2 3 True\n"
          ]
        }
      ]
    },
    {
      "cell_type": "code",
      "source": [
        "print('hello world',1,2,3,True,sep='/')"
      ],
      "metadata": {
        "colab": {
          "base_uri": "https://localhost:8080/"
        },
        "id": "90nwYDsKOnvb",
        "outputId": "016e392e-7c09-4c61-e370-d6d5be3e4d8d"
      },
      "execution_count": 7,
      "outputs": [
        {
          "output_type": "stream",
          "name": "stdout",
          "text": [
            "hello world/1/2/3/True\n"
          ]
        }
      ]
    },
    {
      "cell_type": "code",
      "source": [
        "print('hello')\n",
        "print('world')"
      ],
      "metadata": {
        "colab": {
          "base_uri": "https://localhost:8080/"
        },
        "id": "2n4tkCcgOnyf",
        "outputId": "fa66de8a-0cf4-42da-bec8-39797800d56a"
      },
      "execution_count": 9,
      "outputs": [
        {
          "output_type": "stream",
          "name": "stdout",
          "text": [
            "hello\n",
            "world\n"
          ]
        }
      ]
    },
    {
      "cell_type": "code",
      "source": [
        "print('hello',end='-')\n",
        "print('world')"
      ],
      "metadata": {
        "colab": {
          "base_uri": "https://localhost:8080/"
        },
        "id": "cDnHIhC-PRCd",
        "outputId": "ef47dbcf-5365-444a-b02a-b973c76b844d"
      },
      "execution_count": 10,
      "outputs": [
        {
          "output_type": "stream",
          "name": "stdout",
          "text": [
            "hello-world\n"
          ]
        }
      ]
    },
    {
      "cell_type": "code",
      "source": [
        "print('sakshi',end='/')\n",
        "print('sakshi')\n",
        "print('sakshi',end='/')\n",
        "print('sakshi')"
      ],
      "metadata": {
        "colab": {
          "base_uri": "https://localhost:8080/"
        },
        "id": "-_Bkc1c5PRFU",
        "outputId": "f13482fb-fae8-436a-b0d7-5ed85cec2128"
      },
      "execution_count": 11,
      "outputs": [
        {
          "output_type": "stream",
          "name": "stdout",
          "text": [
            "sakshi/sakshi\n",
            "sakshi/sakshi\n"
          ]
        }
      ]
    },
    {
      "cell_type": "markdown",
      "source": [
        "2. Data type"
      ],
      "metadata": {
        "id": "n81DJRq1nwkk"
      }
    },
    {
      "cell_type": "code",
      "source": [],
      "metadata": {
        "id": "dOFlTeSBPRHt"
      },
      "execution_count": null,
      "outputs": []
    },
    {
      "cell_type": "code",
      "source": [
        "# integer\n",
        "print(8)\n",
        "# 1*10^309\n",
        "print(1e308)"
      ],
      "metadata": {
        "colab": {
          "base_uri": "https://localhost:8080/"
        },
        "id": "_iiTsDfjPRKb",
        "outputId": "f17f272e-9bba-430f-a818-b574aa721830"
      },
      "execution_count": 1,
      "outputs": [
        {
          "output_type": "stream",
          "name": "stdout",
          "text": [
            "8\n",
            "1e+308\n"
          ]
        }
      ]
    },
    {
      "cell_type": "code",
      "source": [
        "# Decimal/fLOAT\n",
        "print(5.99)\n",
        "print(1.9e399)"
      ],
      "metadata": {
        "colab": {
          "base_uri": "https://localhost:8080/"
        },
        "id": "i12Ja0_iPRNS",
        "outputId": "4254994c-214c-4b5b-fe58-09c3a1e74b8f"
      },
      "execution_count": 2,
      "outputs": [
        {
          "output_type": "stream",
          "name": "stdout",
          "text": [
            "5.99\n",
            "inf\n"
          ]
        }
      ]
    },
    {
      "cell_type": "code",
      "source": [
        "# Boolean\n",
        "print(True)\n",
        "print(False)"
      ],
      "metadata": {
        "colab": {
          "base_uri": "https://localhost:8080/"
        },
        "id": "EU6d5L-oo4at",
        "outputId": "7ffaa346-0a4c-4139-8197-736de3e18341"
      },
      "execution_count": 3,
      "outputs": [
        {
          "output_type": "stream",
          "name": "stdout",
          "text": [
            "True\n",
            "False\n"
          ]
        }
      ]
    },
    {
      "cell_type": "code",
      "source": [
        "#complex\n",
        "print(5+6j)"
      ],
      "metadata": {
        "colab": {
          "base_uri": "https://localhost:8080/"
        },
        "id": "AJE9QPYCo4jg",
        "outputId": "00e0ff38-eb09-4afe-9068-4444178d6d92"
      },
      "execution_count": 5,
      "outputs": [
        {
          "output_type": "stream",
          "name": "stdout",
          "text": [
            "(5+6j)\n"
          ]
        }
      ]
    },
    {
      "cell_type": "code",
      "source": [
        "#Tuple\n",
        "print(1,2,3,4,5)"
      ],
      "metadata": {
        "colab": {
          "base_uri": "https://localhost:8080/"
        },
        "id": "DGjW1XoypMd5",
        "outputId": "989fd335-3a20-442c-b82d-90c69915f129"
      },
      "execution_count": 6,
      "outputs": [
        {
          "output_type": "stream",
          "name": "stdout",
          "text": [
            "1 2 3 4 5\n"
          ]
        }
      ]
    },
    {
      "cell_type": "code",
      "source": [
        "# sets\n",
        "print({1,2,3,4,5})"
      ],
      "metadata": {
        "colab": {
          "base_uri": "https://localhost:8080/"
        },
        "id": "V5HA8_VapSd5",
        "outputId": "eeaa4d9e-0fd5-45d0-e77f-c5a9207c06c7"
      },
      "execution_count": 7,
      "outputs": [
        {
          "output_type": "stream",
          "name": "stdout",
          "text": [
            "{1, 2, 3, 4, 5}\n"
          ]
        }
      ]
    },
    {
      "cell_type": "code",
      "source": [
        "# Dictionray\n",
        "print({'mame':'nitish','gender':'male','weight':45})"
      ],
      "metadata": {
        "colab": {
          "base_uri": "https://localhost:8080/"
        },
        "id": "wQlL452lpSg2",
        "outputId": "6d02e368-decf-4981-f3c9-63a892046e7f"
      },
      "execution_count": 8,
      "outputs": [
        {
          "output_type": "stream",
          "name": "stdout",
          "text": [
            "{'mame': 'nitish', 'gender': 'male', 'weight': 45}\n"
          ]
        }
      ]
    },
    {
      "cell_type": "code",
      "source": [
        " # TYPE\n",
        " type([1,2,3])\n"
      ],
      "metadata": {
        "colab": {
          "base_uri": "https://localhost:8080/"
        },
        "id": "_YeDb5Gtqzcn",
        "outputId": "4c667bd3-5f72-407a-c225-ff63965c0812"
      },
      "execution_count": 10,
      "outputs": [
        {
          "output_type": "execute_result",
          "data": {
            "text/plain": [
              "list"
            ]
          },
          "metadata": {},
          "execution_count": 10
        }
      ]
    },
    {
      "cell_type": "code",
      "source": [],
      "metadata": {
        "id": "ghH_1VCPqzmn"
      },
      "execution_count": null,
      "outputs": []
    },
    {
      "cell_type": "code",
      "source": [],
      "metadata": {
        "id": "C9N3HCkSqAmd"
      },
      "execution_count": null,
      "outputs": []
    },
    {
      "cell_type": "markdown",
      "source": [
        "3. VARIABLES"
      ],
      "metadata": {
        "id": "GFdnDpQfqJ_T"
      }
    },
    {
      "cell_type": "code",
      "source": [
        "# STATIC VS DYNAMIC TYPING\n",
        "# STATIC VS DYNAMIC TYPING\n",
        "# STALISH DECLARATION TECHNIQUES\n",
        "# variable are contener\n"
      ],
      "metadata": {
        "id": "i5PSTweJqApi"
      },
      "execution_count": null,
      "outputs": []
    },
    {
      "cell_type": "code",
      "source": [
        "# python\n",
        "name = 'sakshi'\n",
        "print(name)"
      ],
      "metadata": {
        "colab": {
          "base_uri": "https://localhost:8080/"
        },
        "id": "wKU-zY92rnkW",
        "outputId": "b50d2103-c2a4-45c3-ff7c-36d2776342f2"
      },
      "execution_count": 13,
      "outputs": [
        {
          "output_type": "stream",
          "name": "stdout",
          "text": [
            "sakshi\n"
          ]
        }
      ]
    },
    {
      "cell_type": "code",
      "source": [
        "a = 5\n",
        "b= 8\n",
        "print(a+b)"
      ],
      "metadata": {
        "colab": {
          "base_uri": "https://localhost:8080/"
        },
        "id": "Kdy2Rgncrnp9",
        "outputId": "15bdff4d-f266-4f3a-ae30-34f28e1e1a3b"
      },
      "execution_count": 14,
      "outputs": [
        {
          "output_type": "stream",
          "name": "stdout",
          "text": [
            "13\n"
          ]
        }
      ]
    },
    {
      "cell_type": "code",
      "source": [
        "a = 67.9\n",
        "b = 8.9\n",
        "print(a-b)"
      ],
      "metadata": {
        "colab": {
          "base_uri": "https://localhost:8080/"
        },
        "id": "SLGBUGIjsCzo",
        "outputId": "72618ede-6750-47fe-eda3-0c3f80a38d42"
      },
      "execution_count": 15,
      "outputs": [
        {
          "output_type": "stream",
          "name": "stdout",
          "text": [
            "59.00000000000001\n"
          ]
        }
      ]
    },
    {
      "cell_type": "code",
      "source": [
        "a = 90000\n",
        "b = 80000\n",
        "print(a*b)"
      ],
      "metadata": {
        "colab": {
          "base_uri": "https://localhost:8080/"
        },
        "id": "WgSQ1iY0sC2b",
        "outputId": "c356fe38-e6b3-40a7-9fde-2275bbaf843f"
      },
      "execution_count": 16,
      "outputs": [
        {
          "output_type": "stream",
          "name": "stdout",
          "text": [
            "7200000000\n"
          ]
        }
      ]
    },
    {
      "cell_type": "code",
      "source": [
        "# dynamic typing\n",
        "a = 5\n",
        "# static typing\n",
        "int a =9"
      ],
      "metadata": {
        "colab": {
          "base_uri": "https://localhost:8080/",
          "height": 106
        },
        "id": "1DOEsfBfsC41",
        "outputId": "8b8303c3-ee93-4149-b731-4997821dd570"
      },
      "execution_count": 21,
      "outputs": [
        {
          "output_type": "error",
          "ename": "SyntaxError",
          "evalue": "invalid syntax (<ipython-input-21-cc95f5a095ce>, line 4)",
          "traceback": [
            "\u001b[0;36m  File \u001b[0;32m\"<ipython-input-21-cc95f5a095ce>\"\u001b[0;36m, line \u001b[0;32m4\u001b[0m\n\u001b[0;31m    int a = 5\u001b[0m\n\u001b[0m        ^\u001b[0m\n\u001b[0;31mSyntaxError\u001b[0m\u001b[0;31m:\u001b[0m invalid syntax\n"
          ]
        }
      ]
    },
    {
      "cell_type": "code",
      "source": [
        "# Dynamic binding\n",
        "a = 5\n",
        "print(a)\n",
        "a = 'nitish'\n",
        "print(a)"
      ],
      "metadata": {
        "colab": {
          "base_uri": "https://localhost:8080/"
        },
        "id": "DDvrio8eszyC",
        "outputId": "dcb0fa3a-242e-4704-9711-e9f62d6f05c7"
      },
      "execution_count": 22,
      "outputs": [
        {
          "output_type": "stream",
          "name": "stdout",
          "text": [
            "5\n",
            "nitish\n"
          ]
        }
      ]
    },
    {
      "cell_type": "code",
      "source": [
        "# static binding\n",
        "int a = 4"
      ],
      "metadata": {
        "id": "fF-BHp99sz1L"
      },
      "execution_count": null,
      "outputs": []
    },
    {
      "cell_type": "code",
      "source": [
        "a = 1\n",
        "b = 2\n",
        "c = 3\n",
        "print(a,b,c)"
      ],
      "metadata": {
        "colab": {
          "base_uri": "https://localhost:8080/"
        },
        "id": "8ItR8vsosz8s",
        "outputId": "a18bee08-674d-4288-8213-3d42f5e8c2b2"
      },
      "execution_count": 23,
      "outputs": [
        {
          "output_type": "stream",
          "name": "stdout",
          "text": [
            "1 2 3\n"
          ]
        }
      ]
    },
    {
      "cell_type": "code",
      "source": [
        "a,b,c = 1,2,3\n",
        "print(a,b,c)"
      ],
      "metadata": {
        "colab": {
          "base_uri": "https://localhost:8080/"
        },
        "id": "8Ql9HKPlqjWY",
        "outputId": "02ca5fe5-464e-452b-8054-ac4773f1f238"
      },
      "execution_count": 24,
      "outputs": [
        {
          "output_type": "stream",
          "name": "stdout",
          "text": [
            "1 2 3\n"
          ]
        }
      ]
    },
    {
      "cell_type": "code",
      "source": [
        "a=b=c = 5\n",
        "print(a)"
      ],
      "metadata": {
        "colab": {
          "base_uri": "https://localhost:8080/"
        },
        "id": "70a63qnXqjZG",
        "outputId": "172b3d28-0f1e-4f9d-f63c-7077039b5488"
      },
      "execution_count": 25,
      "outputs": [
        {
          "output_type": "stream",
          "name": "stdout",
          "text": [
            "5\n"
          ]
        }
      ]
    },
    {
      "cell_type": "code",
      "source": [
        "a = b = c = 8\n",
        "print(a,b,c)"
      ],
      "metadata": {
        "colab": {
          "base_uri": "https://localhost:8080/"
        },
        "id": "mHFns8Catt6M",
        "outputId": "ad7fe20b-e353-44a3-f55e-73434dfe4530"
      },
      "execution_count": 26,
      "outputs": [
        {
          "output_type": "stream",
          "name": "stdout",
          "text": [
            "8 8 8\n"
          ]
        }
      ]
    },
    {
      "cell_type": "markdown",
      "source": [
        "Comments\n"
      ],
      "metadata": {
        "id": "OMJzKeKgucbT"
      }
    },
    {
      "cell_type": "code",
      "source": [
        "# this is a comment\n",
        "a = 8\n",
        "b = 9 # like this\n",
        "# second comment\n",
        "print(a+b)"
      ],
      "metadata": {
        "colab": {
          "base_uri": "https://localhost:8080/"
        },
        "id": "WMLLBcxbuf8k",
        "outputId": "6b2a5417-01b3-4741-dde5-702b1565681f"
      },
      "execution_count": 27,
      "outputs": [
        {
          "output_type": "stream",
          "name": "stdout",
          "text": [
            "17\n"
          ]
        }
      ]
    },
    {
      "cell_type": "markdown",
      "source": [
        "4. KEYWORDS AND IDENTIFIER"
      ],
      "metadata": {
        "id": "nMjHmjSct9bZ"
      }
    },
    {
      "cell_type": "code",
      "source": [
        "# keywords\n",
        "# identifiers\n",
        "# you can not start with a digit\n",
        "name1 = 'sakshi'\n",
        "print(name1)\n",
        "# you can use spacial chars -> _\n",
        "_= 'sakshi'\n",
        "print(_)\n",
        "# identifier\n",
        "\n",
        "a = 'sakshi'\n",
        "print(a)"
      ],
      "metadata": {
        "colab": {
          "base_uri": "https://localhost:8080/"
        },
        "id": "9l6l20f-tt_a",
        "outputId": "1c2985ff-eecc-4967-f6ef-47d0d7a7275e"
      },
      "execution_count": 29,
      "outputs": [
        {
          "output_type": "stream",
          "name": "stdout",
          "text": [
            "sakshi\n",
            "sakshi\n",
            "sakshi\n"
          ]
        }
      ]
    },
    {
      "cell_type": "markdown",
      "source": [
        "TEMP HEADING\n",
        "\n",
        "5. USER INPUT"
      ],
      "metadata": {
        "id": "65TAX3nH2nym"
      }
    },
    {
      "cell_type": "code",
      "source": [
        "# Static vs dynamic\n",
        "input()"
      ],
      "metadata": {
        "colab": {
          "base_uri": "https://localhost:8080/",
          "height": 52
        },
        "id": "57EpbiDw2lWW",
        "outputId": "27c90545-6249-4d04-d8d4-94c0f603d146"
      },
      "execution_count": 30,
      "outputs": [
        {
          "name": "stdout",
          "output_type": "stream",
          "text": [
            "sakshi\n"
          ]
        },
        {
          "output_type": "execute_result",
          "data": {
            "text/plain": [
              "'sakshi'"
            ],
            "application/vnd.google.colaboratory.intrinsic+json": {
              "type": "string"
            }
          },
          "metadata": {},
          "execution_count": 30
        }
      ]
    },
    {
      "cell_type": "code",
      "source": [
        "input(7)"
      ],
      "metadata": {
        "colab": {
          "base_uri": "https://localhost:8080/",
          "height": 52
        },
        "id": "ylWOoVBg3HAx",
        "outputId": "395c69ca-9929-4681-890e-e699c7d0a205"
      },
      "execution_count": 31,
      "outputs": [
        {
          "name": "stdout",
          "output_type": "stream",
          "text": [
            "7d\n"
          ]
        },
        {
          "output_type": "execute_result",
          "data": {
            "text/plain": [
              "'d'"
            ],
            "application/vnd.google.colaboratory.intrinsic+json": {
              "type": "string"
            }
          },
          "metadata": {},
          "execution_count": 31
        }
      ]
    },
    {
      "cell_type": "code",
      "source": [
        "# static vs dynamic\n",
        "input('enter email')\n"
      ],
      "metadata": {
        "id": "Ow4VN0SE3HEb"
      },
      "execution_count": null,
      "outputs": []
    },
    {
      "cell_type": "code",
      "source": [],
      "metadata": {
        "id": "7d19SDVo8mr4"
      },
      "execution_count": null,
      "outputs": []
    },
    {
      "cell_type": "code",
      "source": [],
      "metadata": {
        "id": "k-2n1X083cgx"
      },
      "execution_count": null,
      "outputs": []
    }
  ]
}