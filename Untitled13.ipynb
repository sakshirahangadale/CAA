{
  "nbformat": 4,
  "nbformat_minor": 0,
  "metadata": {
    "colab": {
      "provenance": [],
      "authorship_tag": "ABX9TyOhcDE9wGzGSj/olPgEclw/",
      "include_colab_link": true
    },
    "kernelspec": {
      "name": "python3",
      "display_name": "Python 3"
    },
    "language_info": {
      "name": "python"
    }
  },
  "cells": [
    {
      "cell_type": "markdown",
      "metadata": {
        "id": "view-in-github",
        "colab_type": "text"
      },
      "source": [
        "<a href=\"https://colab.research.google.com/github/sakshirahangadale/CAA/blob/main/Untitled13.ipynb\" target=\"_parent\"><img src=\"https://colab.research.google.com/assets/colab-badge.svg\" alt=\"Open In Colab\"/></a>"
      ]
    },
    {
      "cell_type": "code",
      "execution_count": 10,
      "metadata": {
        "id": "M0xDppyeqmfK",
        "outputId": "5c106f9a-9299-4a3a-f5e6-a7cbf1c119e7",
        "colab": {
          "base_uri": "https://localhost:8080/"
        }
      },
      "outputs": [
        {
          "output_type": "stream",
          "name": "stdout",
          "text": [
            "     **********          **********\n",
            "    ************        ************\n",
            "   **************      **************\n",
            "  ****************    ****************\n",
            " ******************  ******************\n",
            "***************************************\n",
            " *************************************\n",
            "  ***********************************\n",
            "   *********************************\n",
            "    *******************************\n",
            "     *****************************\n",
            "      ***************************\n",
            "       *************************\n",
            "        ***********************\n",
            "         *********************\n",
            "          *******************\n",
            "           *****************\n",
            "            ***************\n",
            "             *************\n",
            "              ***********\n",
            "               *********\n",
            "                *******\n",
            "                 *****\n",
            "                  ***\n",
            "                   *\n"
          ]
        }
      ],
      "source": [
        "n = 20\n",
        "\n",
        "for i in range(n//2, n, 2):\n",
        "    for j in range(1, n - i, 2):\n",
        "        print(\" \",end=\"\")\n",
        "    for j in range(1, i+1):\n",
        "        print(\"*\", end=\"\")\n",
        "\n",
        "    for j in range(1, n-i+1):\n",
        "        print(\" \", end=\"\")\n",
        "    for j in range(1, i+1):\n",
        "        print(\"*\", end=\"\")\n",
        "\n",
        "    print()\n",
        "for i in range(n, 0, -1):\n",
        "    for j in range(n-i):\n",
        "        print(\" \", end=\"\")\n",
        "    for j in range(2*i-1):\n",
        "        print(\"*\" , end=\"\")\n",
        "    print()\n"
      ]
    }
  ]
}