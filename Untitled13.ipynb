{
  "nbformat": 4,
  "nbformat_minor": 0,
  "metadata": {
    "colab": {
      "provenance": [],
      "authorship_tag": "ABX9TyMxONxYpxfiywOTFTEozjYm",
      "include_colab_link": true
    },
    "kernelspec": {
      "name": "python3",
      "display_name": "Python 3"
    },
    "language_info": {
      "name": "python"
    }
  },
  "cells": [
    {
      "cell_type": "markdown",
      "metadata": {
        "id": "view-in-github",
        "colab_type": "text"
      },
      "source": [
        "<a href=\"https://colab.research.google.com/github/sakshirahangadale/CAA/blob/main/Untitled13.ipynb\" target=\"_parent\"><img src=\"https://colab.research.google.com/assets/colab-badge.svg\" alt=\"Open In Colab\"/></a>"
      ]
    },
    {
      "cell_type": "code",
      "execution_count": null,
      "metadata": {
        "id": "M0xDppyeqmfK",
        "colab": {
          "base_uri": "https://localhost:8080/"
        },
        "outputId": "5c106f9a-9299-4a3a-f5e6-a7cbf1c119e7"
      },
      "outputs": [
        {
          "output_type": "stream",
          "name": "stdout",
          "text": [
            "     **********          **********\n",
            "    ************        ************\n",
            "   **************      **************\n",
            "  ****************    ****************\n",
            " ******************  ******************\n",
            "***************************************\n",
            " *************************************\n",
            "  ***********************************\n",
            "   *********************************\n",
            "    *******************************\n",
            "     *****************************\n",
            "      ***************************\n",
            "       *************************\n",
            "        ***********************\n",
            "         *********************\n",
            "          *******************\n",
            "           *****************\n",
            "            ***************\n",
            "             *************\n",
            "              ***********\n",
            "               *********\n",
            "                *******\n",
            "                 *****\n",
            "                  ***\n",
            "                   *\n"
          ]
        }
      ],
      "source": [
        "n = 20\n",
        "\n",
        "for i in range(n//2, n, 2):\n",
        "    for j in range(1, n - i, 2):\n",
        "        print(\" \",end=\"\")\n",
        "    for j in range(1, i+1):\n",
        "        print(\"*\", end=\"\")\n",
        "\n",
        "    for j in range(1, n-i+1):\n",
        "        print(\" \", end=\"\")\n",
        "    for j in range(1, i+1):\n",
        "        print(\"*\", end=\"\")\n",
        "\n",
        "    print()\n",
        "for i in range(n, 0, -1):\n",
        "    for j in range(n-i):\n",
        "        print(\" \", end=\"\")\n",
        "    for j in range(2*i-1):\n",
        "        print(\"*\" , end=\"\")\n",
        "    print()\n"
      ]
    },
    {
      "cell_type": "code",
      "source": [
        "rows = int(input('enter number of rows'))\n",
        "for i in range(1, rows +1):\n",
        "  for j in range(1,i+1):\n",
        "    print(j, end=\"\")\n",
        "  for k in range(i-1,0,-1):\n",
        "    print(k, end='')\n",
        "  print()\n"
      ],
      "metadata": {
        "colab": {
          "base_uri": "https://localhost:8080/"
        },
        "id": "XUaZfXlciD6x",
        "outputId": "b2b6c47d-633d-40ad-bc19-d97ebfded3c7"
      },
      "execution_count": null,
      "outputs": [
        {
          "output_type": "stream",
          "name": "stdout",
          "text": [
            "enter number of rows9\n",
            "1\n",
            "121\n",
            "12321\n",
            "1234321\n",
            "123454321\n",
            "12345654321\n",
            "1234567654321\n",
            "123456787654321\n",
            "12345678987654321\n"
          ]
        }
      ]
    },
    {
      "cell_type": "code",
      "source": [
        "for i in range(1,100):\n",
        "  if i ==50:\n",
        "    break\n",
        "\n",
        "\n",
        "  print(i)"
      ],
      "metadata": {
        "colab": {
          "base_uri": "https://localhost:8080/"
        },
        "id": "I6xiBT8QknnT",
        "outputId": "39fde5a5-1866-426d-9d9f-5cb2da812713"
      },
      "execution_count": null,
      "outputs": [
        {
          "output_type": "stream",
          "name": "stdout",
          "text": [
            "1\n",
            "2\n",
            "3\n",
            "4\n",
            "5\n",
            "6\n",
            "7\n",
            "8\n",
            "9\n",
            "10\n",
            "11\n",
            "12\n",
            "13\n",
            "14\n",
            "15\n",
            "16\n",
            "17\n",
            "18\n",
            "19\n",
            "20\n",
            "21\n",
            "22\n",
            "23\n",
            "24\n",
            "25\n",
            "26\n",
            "27\n",
            "28\n",
            "29\n",
            "30\n",
            "31\n",
            "32\n",
            "33\n",
            "34\n",
            "35\n",
            "36\n",
            "37\n",
            "38\n",
            "39\n",
            "40\n",
            "41\n",
            "42\n",
            "43\n",
            "44\n",
            "45\n",
            "46\n",
            "47\n",
            "48\n",
            "49\n"
          ]
        }
      ]
    },
    {
      "cell_type": "code",
      "source": [
        "lower = int(input('enter lower range'))\n",
        "upper = int(input('enter upper range'))\n",
        "\n",
        "for i in range(lower,upper+1):\n",
        "  for j in range(2,i):\n",
        "    if i%2==0:\n",
        "      break\n",
        "  else:\n",
        "    print(i)"
      ],
      "metadata": {
        "id": "PBs5bQoil4qb",
        "outputId": "6f6a1ac7-f86c-420c-fe14-4dce6c3c4a00",
        "colab": {
          "base_uri": "https://localhost:8080/"
        }
      },
      "execution_count": null,
      "outputs": [
        {
          "output_type": "stream",
          "name": "stdout",
          "text": [
            "enter lower range10\n",
            "enter upper range100\n",
            "11\n",
            "13\n",
            "15\n",
            "17\n",
            "19\n",
            "21\n",
            "23\n",
            "25\n",
            "27\n",
            "29\n",
            "31\n",
            "33\n",
            "35\n",
            "37\n",
            "39\n",
            "41\n",
            "43\n",
            "45\n",
            "47\n",
            "49\n",
            "51\n",
            "53\n",
            "55\n",
            "57\n",
            "59\n",
            "61\n",
            "63\n",
            "65\n",
            "67\n",
            "69\n",
            "71\n",
            "73\n",
            "75\n",
            "77\n",
            "79\n",
            "81\n",
            "83\n",
            "85\n",
            "87\n",
            "89\n",
            "91\n",
            "93\n",
            "95\n",
            "97\n",
            "99\n"
          ]
        }
      ]
    },
    {
      "cell_type": "code",
      "source": [
        "lower  = int(input('enter lower range'))\n",
        "upper = int(input('enter upper range'))\n",
        "\n",
        "for i in range(lower,upper+1):\n",
        "  for j in range(2,i):\n",
        "    if i%j==3:\n",
        "      break\n",
        "    else:\n",
        "      print(i)"
      ],
      "metadata": {
        "id": "UlbitnSll4tN",
        "outputId": "cc6c2db4-342c-4b75-d9e9-0590a41198f7",
        "colab": {
          "base_uri": "https://localhost:8080/"
        }
      },
      "execution_count": 7,
      "outputs": [
        {
          "output_type": "stream",
          "name": "stdout",
          "text": [
            "enter lower range10\n",
            "enter upper range70\n",
            "10\n",
            "10\n",
            "10\n",
            "10\n",
            "10\n",
            "11\n",
            "11\n",
            "12\n",
            "12\n",
            "12\n",
            "12\n",
            "12\n",
            "12\n",
            "12\n",
            "13\n",
            "13\n",
            "13\n",
            "14\n",
            "14\n",
            "14\n",
            "14\n",
            "14\n",
            "14\n",
            "14\n",
            "14\n",
            "14\n",
            "15\n",
            "15\n",
            "16\n",
            "16\n",
            "16\n",
            "16\n",
            "16\n",
            "16\n",
            "16\n",
            "16\n",
            "16\n",
            "16\n",
            "16\n",
            "17\n",
            "17\n",
            "17\n",
            "17\n",
            "17\n",
            "18\n",
            "18\n",
            "18\n",
            "19\n",
            "19\n",
            "20\n",
            "20\n",
            "20\n",
            "20\n",
            "20\n",
            "20\n",
            "20\n",
            "20\n",
            "20\n",
            "20\n",
            "20\n",
            "20\n",
            "20\n",
            "20\n",
            "20\n",
            "21\n",
            "21\n",
            "21\n",
            "21\n",
            "22\n",
            "22\n",
            "22\n",
            "22\n",
            "22\n",
            "22\n",
            "22\n",
            "22\n",
            "22\n",
            "22\n",
            "22\n",
            "22\n",
            "22\n",
            "22\n",
            "22\n",
            "22\n",
            "22\n",
            "23\n",
            "23\n",
            "24\n",
            "24\n",
            "24\n",
            "24\n",
            "24\n",
            "25\n",
            "25\n",
            "25\n",
            "25\n",
            "25\n",
            "25\n",
            "25\n",
            "25\n",
            "25\n",
            "26\n",
            "26\n",
            "26\n",
            "26\n",
            "26\n",
            "26\n",
            "26\n",
            "26\n",
            "26\n",
            "26\n",
            "26\n",
            "26\n",
            "26\n",
            "26\n",
            "26\n",
            "26\n",
            "26\n",
            "26\n",
            "26\n",
            "26\n",
            "26\n",
            "27\n",
            "27\n",
            "28\n",
            "28\n",
            "28\n",
            "29\n",
            "29\n",
            "29\n",
            "29\n",
            "29\n",
            "29\n",
            "29\n",
            "29\n",
            "29\n",
            "29\n",
            "29\n",
            "30\n",
            "30\n",
            "30\n",
            "30\n",
            "30\n",
            "30\n",
            "30\n",
            "31\n",
            "31\n",
            "32\n",
            "32\n",
            "32\n",
            "32\n",
            "32\n",
            "32\n",
            "32\n",
            "32\n",
            "32\n",
            "32\n",
            "32\n",
            "32\n",
            "32\n",
            "32\n",
            "32\n",
            "32\n",
            "32\n",
            "32\n",
            "32\n",
            "32\n",
            "32\n",
            "32\n",
            "32\n",
            "32\n",
            "32\n",
            "32\n",
            "32\n",
            "33\n",
            "33\n",
            "33\n",
            "34\n",
            "34\n",
            "34\n",
            "34\n",
            "34\n",
            "34\n",
            "34\n",
            "34\n",
            "34\n",
            "34\n",
            "34\n",
            "34\n",
            "34\n",
            "34\n",
            "34\n",
            "34\n",
            "34\n",
            "34\n",
            "34\n",
            "34\n",
            "34\n",
            "34\n",
            "34\n",
            "34\n",
            "34\n",
            "34\n",
            "34\n",
            "34\n",
            "34\n",
            "35\n",
            "35\n",
            "36\n",
            "36\n",
            "36\n",
            "36\n",
            "36\n",
            "36\n",
            "36\n",
            "36\n",
            "36\n",
            "37\n",
            "37\n",
            "37\n",
            "37\n",
            "37\n",
            "37\n",
            "37\n",
            "37\n",
            "37\n",
            "37\n",
            "37\n",
            "37\n",
            "37\n",
            "37\n",
            "37\n",
            "38\n",
            "38\n",
            "38\n",
            "39\n",
            "39\n",
            "40\n",
            "40\n",
            "40\n",
            "40\n",
            "40\n",
            "40\n",
            "40\n",
            "40\n",
            "40\n",
            "40\n",
            "40\n",
            "40\n",
            "40\n",
            "40\n",
            "40\n",
            "40\n",
            "40\n",
            "40\n",
            "40\n",
            "40\n",
            "40\n",
            "40\n",
            "40\n",
            "40\n",
            "40\n",
            "40\n",
            "40\n",
            "40\n",
            "40\n",
            "40\n",
            "40\n",
            "40\n",
            "40\n",
            "40\n",
            "40\n",
            "41\n",
            "41\n",
            "41\n",
            "41\n",
            "41\n",
            "41\n",
            "41\n",
            "41\n",
            "41\n",
            "41\n",
            "41\n",
            "41\n",
            "41\n",
            "41\n",
            "41\n",
            "41\n",
            "41\n",
            "42\n",
            "42\n",
            "42\n",
            "42\n",
            "42\n",
            "42\n",
            "42\n",
            "42\n",
            "42\n",
            "42\n",
            "42\n",
            "43\n",
            "43\n",
            "44\n",
            "44\n",
            "44\n",
            "44\n",
            "44\n",
            "44\n",
            "44\n",
            "44\n",
            "44\n",
            "44\n",
            "44\n",
            "44\n",
            "44\n",
            "44\n",
            "44\n",
            "44\n",
            "44\n",
            "44\n",
            "44\n",
            "44\n",
            "44\n",
            "44\n",
            "44\n",
            "44\n",
            "44\n",
            "44\n",
            "44\n",
            "44\n",
            "44\n",
            "44\n",
            "44\n",
            "44\n",
            "44\n",
            "44\n",
            "44\n",
            "44\n",
            "44\n",
            "44\n",
            "44\n",
            "45\n",
            "45\n",
            "45\n",
            "45\n",
            "46\n",
            "46\n",
            "46\n",
            "46\n",
            "46\n",
            "46\n",
            "46\n",
            "46\n",
            "46\n",
            "46\n",
            "46\n",
            "46\n",
            "46\n",
            "46\n",
            "46\n",
            "46\n",
            "46\n",
            "46\n",
            "46\n",
            "46\n",
            "46\n",
            "46\n",
            "46\n",
            "46\n",
            "46\n",
            "46\n",
            "46\n",
            "46\n",
            "46\n",
            "46\n",
            "46\n",
            "46\n",
            "46\n",
            "46\n",
            "46\n",
            "46\n",
            "46\n",
            "46\n",
            "46\n",
            "46\n",
            "46\n",
            "47\n",
            "47\n",
            "48\n",
            "48\n",
            "48\n",
            "49\n",
            "49\n",
            "49\n",
            "49\n",
            "49\n",
            "49\n",
            "49\n",
            "49\n",
            "49\n",
            "49\n",
            "49\n",
            "49\n",
            "49\n",
            "49\n",
            "49\n",
            "49\n",
            "49\n",
            "49\n",
            "49\n",
            "49\n",
            "49\n",
            "50\n",
            "50\n",
            "50\n",
            "50\n",
            "50\n",
            "50\n",
            "50\n",
            "50\n",
            "50\n",
            "50\n",
            "50\n",
            "50\n",
            "50\n",
            "50\n",
            "50\n",
            "50\n",
            "50\n",
            "50\n",
            "50\n",
            "50\n",
            "50\n",
            "50\n",
            "50\n",
            "50\n",
            "50\n",
            "50\n",
            "50\n",
            "50\n",
            "50\n",
            "50\n",
            "50\n",
            "50\n",
            "50\n",
            "50\n",
            "50\n",
            "50\n",
            "50\n",
            "50\n",
            "50\n",
            "50\n",
            "50\n",
            "50\n",
            "50\n",
            "50\n",
            "50\n",
            "51\n",
            "51\n",
            "52\n",
            "52\n",
            "52\n",
            "52\n",
            "52\n",
            "53\n",
            "53\n",
            "53\n",
            "54\n",
            "54\n",
            "54\n",
            "54\n",
            "54\n",
            "54\n",
            "54\n",
            "54\n",
            "54\n",
            "54\n",
            "54\n",
            "54\n",
            "54\n",
            "54\n",
            "54\n",
            "55\n",
            "55\n",
            "56\n",
            "56\n",
            "56\n",
            "56\n",
            "56\n",
            "56\n",
            "56\n",
            "56\n",
            "56\n",
            "56\n",
            "56\n",
            "56\n",
            "56\n",
            "56\n",
            "56\n",
            "56\n",
            "56\n",
            "56\n",
            "56\n",
            "56\n",
            "56\n",
            "56\n",
            "56\n",
            "56\n",
            "56\n",
            "56\n",
            "56\n",
            "56\n",
            "56\n",
            "56\n",
            "56\n",
            "56\n",
            "56\n",
            "56\n",
            "56\n",
            "56\n",
            "56\n",
            "56\n",
            "56\n",
            "56\n",
            "56\n",
            "56\n",
            "56\n",
            "56\n",
            "56\n",
            "56\n",
            "56\n",
            "56\n",
            "56\n",
            "56\n",
            "56\n",
            "57\n",
            "57\n",
            "57\n",
            "57\n",
            "58\n",
            "58\n",
            "58\n",
            "59\n",
            "59\n",
            "60\n",
            "60\n",
            "60\n",
            "60\n",
            "60\n",
            "60\n",
            "60\n",
            "60\n",
            "60\n",
            "60\n",
            "60\n",
            "60\n",
            "60\n",
            "60\n",
            "60\n",
            "60\n",
            "60\n",
            "61\n",
            "61\n",
            "61\n",
            "61\n",
            "61\n",
            "61\n",
            "61\n",
            "61\n",
            "61\n",
            "61\n",
            "61\n",
            "61\n",
            "61\n",
            "61\n",
            "61\n",
            "61\n",
            "61\n",
            "61\n",
            "61\n",
            "61\n",
            "61\n",
            "61\n",
            "61\n",
            "61\n",
            "61\n",
            "61\n",
            "61\n",
            "62\n",
            "62\n",
            "62\n",
            "62\n",
            "62\n",
            "62\n",
            "62\n",
            "62\n",
            "62\n",
            "62\n",
            "62\n",
            "62\n",
            "62\n",
            "62\n",
            "62\n",
            "62\n",
            "62\n",
            "62\n",
            "62\n",
            "62\n",
            "62\n",
            "62\n",
            "62\n",
            "62\n",
            "62\n",
            "62\n",
            "62\n",
            "62\n",
            "62\n",
            "62\n",
            "62\n",
            "62\n",
            "62\n",
            "62\n",
            "62\n",
            "62\n",
            "62\n",
            "62\n",
            "62\n",
            "62\n",
            "62\n",
            "62\n",
            "62\n",
            "62\n",
            "62\n",
            "62\n",
            "62\n",
            "62\n",
            "62\n",
            "62\n",
            "62\n",
            "62\n",
            "62\n",
            "62\n",
            "62\n",
            "62\n",
            "62\n",
            "63\n",
            "63\n",
            "64\n",
            "64\n",
            "64\n",
            "64\n",
            "64\n",
            "64\n",
            "64\n",
            "64\n",
            "64\n",
            "64\n",
            "64\n",
            "64\n",
            "64\n",
            "64\n",
            "64\n",
            "64\n",
            "64\n",
            "64\n",
            "64\n",
            "64\n",
            "64\n",
            "64\n",
            "64\n",
            "64\n",
            "64\n",
            "64\n",
            "64\n",
            "64\n",
            "64\n",
            "64\n",
            "64\n",
            "64\n",
            "64\n",
            "64\n",
            "64\n",
            "64\n",
            "64\n",
            "64\n",
            "64\n",
            "64\n",
            "64\n",
            "64\n",
            "64\n",
            "64\n",
            "64\n",
            "64\n",
            "64\n",
            "64\n",
            "64\n",
            "64\n",
            "64\n",
            "64\n",
            "64\n",
            "64\n",
            "64\n",
            "64\n",
            "64\n",
            "64\n",
            "64\n",
            "65\n",
            "65\n",
            "65\n",
            "65\n",
            "65\n",
            "65\n",
            "65\n",
            "65\n",
            "65\n",
            "65\n",
            "65\n",
            "65\n",
            "65\n",
            "65\n",
            "65\n",
            "65\n",
            "65\n",
            "65\n",
            "65\n",
            "65\n",
            "65\n",
            "65\n",
            "65\n",
            "65\n",
            "65\n",
            "65\n",
            "65\n",
            "65\n",
            "65\n",
            "66\n",
            "66\n",
            "66\n",
            "66\n",
            "66\n",
            "67\n",
            "67\n",
            "68\n",
            "68\n",
            "68\n",
            "69\n",
            "69\n",
            "69\n",
            "69\n",
            "70\n",
            "70\n",
            "70\n",
            "70\n",
            "70\n",
            "70\n",
            "70\n",
            "70\n",
            "70\n",
            "70\n",
            "70\n",
            "70\n",
            "70\n",
            "70\n",
            "70\n",
            "70\n",
            "70\n",
            "70\n",
            "70\n",
            "70\n",
            "70\n",
            "70\n",
            "70\n",
            "70\n",
            "70\n",
            "70\n",
            "70\n",
            "70\n",
            "70\n",
            "70\n",
            "70\n",
            "70\n",
            "70\n",
            "70\n",
            "70\n",
            "70\n",
            "70\n",
            "70\n",
            "70\n",
            "70\n",
            "70\n",
            "70\n",
            "70\n",
            "70\n",
            "70\n",
            "70\n",
            "70\n",
            "70\n",
            "70\n",
            "70\n",
            "70\n",
            "70\n",
            "70\n",
            "70\n",
            "70\n",
            "70\n",
            "70\n",
            "70\n",
            "70\n",
            "70\n",
            "70\n",
            "70\n",
            "70\n",
            "70\n",
            "70\n"
          ]
        }
      ]
    },
    {
      "cell_type": "code",
      "source": [
        "for i in range(1,10):\n",
        "  if i == 5:\n",
        "    continue\n",
        "  print(i)"
      ],
      "metadata": {
        "id": "pFJOi05fl4vf",
        "outputId": "f5085d70-6020-4aac-d085-41715d07a4e7",
        "colab": {
          "base_uri": "https://localhost:8080/"
        }
      },
      "execution_count": 11,
      "outputs": [
        {
          "output_type": "stream",
          "name": "stdout",
          "text": [
            "1\n",
            "2\n",
            "3\n",
            "4\n",
            "6\n",
            "7\n",
            "8\n",
            "9\n"
          ]
        }
      ]
    },
    {
      "cell_type": "code",
      "source": [
        "for i in range(1,100):\n",
        "  if i == 67:\n",
        "\n",
        "    j = 50\n",
        "    k = 30\n",
        "    if j == 50:\n",
        "      if k ==30:\n",
        "        continue\n",
        "print(i,j,k)"
      ],
      "metadata": {
        "id": "qvt07sg5l407",
        "outputId": "444752f7-190a-47b3-dcec-fa09a75c3145",
        "colab": {
          "base_uri": "https://localhost:8080/"
        }
      },
      "execution_count": 23,
      "outputs": [
        {
          "output_type": "stream",
          "name": "stdout",
          "text": [
            "99 50 30\n"
          ]
        }
      ]
    },
    {
      "cell_type": "code",
      "source": [
        "for i in range(1,100):\n",
        "  if i == 56:\n",
        "    continue\n",
        "  print(i)"
      ],
      "metadata": {
        "id": "8KEkiCYol43N",
        "outputId": "d834f38d-6b26-4134-b54e-3a3cec7cbfa6",
        "colab": {
          "base_uri": "https://localhost:8080/"
        }
      },
      "execution_count": 31,
      "outputs": [
        {
          "output_type": "stream",
          "name": "stdout",
          "text": [
            "1\n",
            "2\n",
            "3\n",
            "4\n",
            "5\n",
            "6\n",
            "7\n",
            "8\n",
            "9\n",
            "10\n",
            "11\n",
            "12\n",
            "13\n",
            "14\n",
            "15\n",
            "16\n",
            "17\n",
            "18\n",
            "19\n",
            "20\n",
            "21\n",
            "22\n",
            "23\n",
            "24\n",
            "25\n",
            "26\n",
            "27\n",
            "28\n",
            "29\n",
            "30\n",
            "31\n",
            "32\n",
            "33\n",
            "34\n",
            "35\n",
            "36\n",
            "37\n",
            "38\n",
            "39\n",
            "40\n",
            "41\n",
            "42\n",
            "43\n",
            "44\n",
            "45\n",
            "46\n",
            "47\n",
            "48\n",
            "49\n",
            "50\n",
            "51\n",
            "52\n",
            "53\n",
            "54\n",
            "55\n",
            "57\n",
            "58\n",
            "59\n",
            "60\n",
            "61\n",
            "62\n",
            "63\n",
            "64\n",
            "65\n",
            "66\n",
            "67\n",
            "68\n",
            "69\n",
            "70\n",
            "71\n",
            "72\n",
            "73\n",
            "74\n",
            "75\n",
            "76\n",
            "77\n",
            "78\n",
            "79\n",
            "80\n",
            "81\n",
            "82\n",
            "83\n",
            "84\n",
            "85\n",
            "86\n",
            "87\n",
            "88\n",
            "89\n",
            "90\n",
            "91\n",
            "92\n",
            "93\n",
            "94\n",
            "95\n",
            "96\n",
            "97\n",
            "98\n",
            "99\n"
          ]
        }
      ]
    },
    {
      "cell_type": "code",
      "source": [
        "s = 'hello'\n",
        "s = \"s\"\n",
        "s = '''s'''\n",
        "s = \"\"\"s\"\"\"\n",
        "print(type(s))\n"
      ],
      "metadata": {
        "id": "QGkoWo9nn6AK",
        "outputId": "c2108e77-c243-4e98-b3ab-79f2e9d146cc",
        "colab": {
          "base_uri": "https://localhost:8080/"
        }
      },
      "execution_count": 34,
      "outputs": [
        {
          "output_type": "stream",
          "name": "stdout",
          "text": [
            "<class 'str'>\n"
          ]
        }
      ]
    },
    {
      "cell_type": "code",
      "source": [
        "\"it's raining outside\""
      ],
      "metadata": {
        "id": "odwDMDdQn6Eu",
        "outputId": "a70a52ef-9b87-4a20-bb04-414473c69366",
        "colab": {
          "base_uri": "https://localhost:8080/",
          "height": 35
        }
      },
      "execution_count": 35,
      "outputs": [
        {
          "output_type": "execute_result",
          "data": {
            "text/plain": [
              "\"it's raining outside\""
            ],
            "application/vnd.google.colaboratory.intrinsic+json": {
              "type": "string"
            }
          },
          "metadata": {},
          "execution_count": 35
        }
      ]
    },
    {
      "cell_type": "code",
      "source": [
        "# positive  indexing\n",
        "s = \"hello world\"\n",
        "print(s[4])\n"
      ],
      "metadata": {
        "id": "74cEkBT6n6HZ",
        "outputId": "e9d01de1-e05c-410c-b5fc-4f80d29f742a",
        "colab": {
          "base_uri": "https://localhost:8080/"
        }
      },
      "execution_count": 40,
      "outputs": [
        {
          "output_type": "stream",
          "name": "stdout",
          "text": [
            "o\n"
          ]
        }
      ]
    },
    {
      "cell_type": "code",
      "source": [
        "# negative indexing\n",
        "s = 'hello world'\n",
        "print(s[-2])"
      ],
      "metadata": {
        "id": "I-mswPxnn6Jl",
        "outputId": "70dfc64c-2125-4c4c-a20a-ef4c294148f2",
        "colab": {
          "base_uri": "https://localhost:8080/"
        }
      },
      "execution_count": 44,
      "outputs": [
        {
          "output_type": "stream",
          "name": "stdout",
          "text": [
            "l\n"
          ]
        }
      ]
    },
    {
      "cell_type": "code",
      "source": [
        "# slicing\n",
        "\n",
        "s = 'hello world'\n",
        "print(s[0:6:2])"
      ],
      "metadata": {
        "id": "IyuRjPWnn6Lx",
        "outputId": "12b5b34b-ce01-4ac3-e5a6-173633389b5a",
        "colab": {
          "base_uri": "https://localhost:8080/"
        }
      },
      "execution_count": 47,
      "outputs": [
        {
          "output_type": "stream",
          "name": "stdout",
          "text": [
            "hlo\n"
          ]
        }
      ]
    },
    {
      "cell_type": "code",
      "source": [
        "print(s[:: -1])"
      ],
      "metadata": {
        "id": "5WcoK_cYx-rL",
        "outputId": "b1b7d241-45ee-4f9a-f5a2-2b32194771e4",
        "colab": {
          "base_uri": "https://localhost:8080/"
        }
      },
      "execution_count": 48,
      "outputs": [
        {
          "output_type": "stream",
          "name": "stdout",
          "text": [
            "dlrow olleh\n"
          ]
        }
      ]
    },
    {
      "cell_type": "code",
      "source": [
        "s = 'hello world'\n",
        "print(s[-5:])\n"
      ],
      "metadata": {
        "id": "okOtBdkOx-ug",
        "outputId": "3a7d4af5-f35b-414c-e458-915169749992",
        "colab": {
          "base_uri": "https://localhost:8080/"
        }
      },
      "execution_count": 51,
      "outputs": [
        {
          "output_type": "stream",
          "name": "stdout",
          "text": [
            "world\n"
          ]
        }
      ]
    },
    {
      "cell_type": "code",
      "source": [
        "s = 'hello world'\n",
        "print(s[-1:-6:-1])"
      ],
      "metadata": {
        "id": "PAzJCfsfy-Xl",
        "outputId": "55d07d82-a5cd-4827-c55e-7f18b3b603fc",
        "colab": {
          "base_uri": "https://localhost:8080/"
        }
      },
      "execution_count": 1,
      "outputs": [
        {
          "output_type": "stream",
          "name": "stdout",
          "text": [
            "dlrow\n"
          ]
        }
      ]
    },
    {
      "cell_type": "code",
      "source": [
        "s = 'hello world'\n",
        "del s[-1:-5:2]\n",
        "print(s)"
      ],
      "metadata": {
        "id": "OmJT0N60x-wS",
        "outputId": "8d33bb5f-afe0-49b8-baea-8f790b33ad4a",
        "colab": {
          "base_uri": "https://localhost:8080/",
          "height": 176
        }
      },
      "execution_count": 7,
      "outputs": [
        {
          "output_type": "error",
          "ename": "TypeError",
          "evalue": "'str' object does not support item deletion",
          "traceback": [
            "\u001b[0;31m---------------------------------------------------------------------------\u001b[0m",
            "\u001b[0;31mTypeError\u001b[0m                                 Traceback (most recent call last)",
            "\u001b[0;32m<ipython-input-7-d0d823eafb6b>\u001b[0m in \u001b[0;36m<cell line: 0>\u001b[0;34m()\u001b[0m\n\u001b[1;32m      1\u001b[0m \u001b[0ms\u001b[0m \u001b[0;34m=\u001b[0m \u001b[0;34m'hello world'\u001b[0m\u001b[0;34m\u001b[0m\u001b[0;34m\u001b[0m\u001b[0m\n\u001b[0;32m----> 2\u001b[0;31m \u001b[0;32mdel\u001b[0m \u001b[0ms\u001b[0m\u001b[0;34m[\u001b[0m\u001b[0;34m-\u001b[0m\u001b[0;36m1\u001b[0m\u001b[0;34m:\u001b[0m\u001b[0;34m-\u001b[0m\u001b[0;36m5\u001b[0m\u001b[0;34m:\u001b[0m\u001b[0;36m2\u001b[0m\u001b[0;34m]\u001b[0m\u001b[0;34m\u001b[0m\u001b[0;34m\u001b[0m\u001b[0m\n\u001b[0m\u001b[1;32m      3\u001b[0m \u001b[0mprint\u001b[0m\u001b[0;34m(\u001b[0m\u001b[0ms\u001b[0m\u001b[0;34m)\u001b[0m\u001b[0;34m\u001b[0m\u001b[0;34m\u001b[0m\u001b[0m\n",
            "\u001b[0;31mTypeError\u001b[0m: 'str' object does not support item deletion"
          ]
        }
      ]
    },
    {
      "cell_type": "code",
      "source": [
        "print('delhi'+ 'mumbai')"
      ],
      "metadata": {
        "id": "Y-cC6I3tx-zW",
        "outputId": "497ba24e-2821-4327-9c43-4e6772f3c924",
        "colab": {
          "base_uri": "https://localhost:8080/"
        }
      },
      "execution_count": 8,
      "outputs": [
        {
          "output_type": "stream",
          "name": "stdout",
          "text": [
            "delhimumbai\n"
          ]
        }
      ]
    },
    {
      "cell_type": "code",
      "source": [
        "print('delhi'*50)"
      ],
      "metadata": {
        "id": "Cadb07qYefDH",
        "outputId": "730e3339-d66a-43c8-e734-8f88bf80ae5c",
        "colab": {
          "base_uri": "https://localhost:8080/"
        }
      },
      "execution_count": 9,
      "outputs": [
        {
          "output_type": "stream",
          "name": "stdout",
          "text": [
            "delhidelhidelhidelhidelhidelhidelhidelhidelhidelhidelhidelhidelhidelhidelhidelhidelhidelhidelhidelhidelhidelhidelhidelhidelhidelhidelhidelhidelhidelhidelhidelhidelhidelhidelhidelhidelhidelhidelhidelhidelhidelhidelhidelhidelhidelhidelhidelhidelhidelhi\n"
          ]
        }
      ]
    },
    {
      "cell_type": "code",
      "source": [
        "print(\"*\"*50)"
      ],
      "metadata": {
        "id": "zxmCpgFDefFx",
        "outputId": "f1fb1b5e-0058-413b-896a-392e0c9d148f",
        "colab": {
          "base_uri": "https://localhost:8080/"
        }
      },
      "execution_count": 11,
      "outputs": [
        {
          "output_type": "stream",
          "name": "stdout",
          "text": [
            "**************************************************\n"
          ]
        }
      ]
    },
    {
      "cell_type": "code",
      "source": [
        "'delhi' == 'mumbai'"
      ],
      "metadata": {
        "id": "8n051vEkefIY",
        "outputId": "099c9187-b32a-4751-d193-d2ad17610890",
        "colab": {
          "base_uri": "https://localhost:8080/"
        }
      },
      "execution_count": 12,
      "outputs": [
        {
          "output_type": "execute_result",
          "data": {
            "text/plain": [
              "False"
            ]
          },
          "metadata": {},
          "execution_count": 12
        }
      ]
    },
    {
      "cell_type": "code",
      "source": [
        "'mumai'>'pune'"
      ],
      "metadata": {
        "id": "eW9Q8GeXey8D",
        "outputId": "171ead6b-c669-430c-cf26-3ed981c6a590",
        "colab": {
          "base_uri": "https://localhost:8080/"
        }
      },
      "execution_count": 13,
      "outputs": [
        {
          "output_type": "execute_result",
          "data": {
            "text/plain": [
              "False"
            ]
          },
          "metadata": {},
          "execution_count": 13
        }
      ]
    },
    {
      "cell_type": "code",
      "source": [
        "'pune'>'pune'"
      ],
      "metadata": {
        "id": "hNVrJpEDey-e",
        "outputId": "c818b5ea-bd8d-4f57-cb4c-24cee9795581",
        "colab": {
          "base_uri": "https://localhost:8080/"
        }
      },
      "execution_count": 14,
      "outputs": [
        {
          "output_type": "execute_result",
          "data": {
            "text/plain": [
              "False"
            ]
          },
          "metadata": {},
          "execution_count": 14
        }
      ]
    },
    {
      "cell_type": "code",
      "source": [
        "'hello' and 'world'"
      ],
      "metadata": {
        "id": "wKkgY1CqezBE",
        "outputId": "e38fb222-aa97-4de8-a259-4ea21825fc37",
        "colab": {
          "base_uri": "https://localhost:8080/",
          "height": 35
        }
      },
      "execution_count": 15,
      "outputs": [
        {
          "output_type": "execute_result",
          "data": {
            "text/plain": [
              "'world'"
            ],
            "application/vnd.google.colaboratory.intrinsic+json": {
              "type": "string"
            }
          },
          "metadata": {},
          "execution_count": 15
        }
      ]
    },
    {
      "cell_type": "code",
      "source": [
        "'hello 'and 'world'"
      ],
      "metadata": {
        "id": "j54EjX5AfcuB",
        "outputId": "9c2a4821-6294-4c72-9b02-beb655b12413",
        "colab": {
          "base_uri": "https://localhost:8080/",
          "height": 35
        }
      },
      "execution_count": 16,
      "outputs": [
        {
          "output_type": "execute_result",
          "data": {
            "text/plain": [
              "'world'"
            ],
            "application/vnd.google.colaboratory.intrinsic+json": {
              "type": "string"
            }
          },
          "metadata": {},
          "execution_count": 16
        }
      ]
    },
    {
      "cell_type": "code",
      "source": [
        "'' and 'world'"
      ],
      "metadata": {
        "id": "pb6Js5PKfcw8",
        "outputId": "8f9e0463-2795-4916-8722-753359b174ac",
        "colab": {
          "base_uri": "https://localhost:8080/",
          "height": 35
        }
      },
      "execution_count": 17,
      "outputs": [
        {
          "output_type": "execute_result",
          "data": {
            "text/plain": [
              "''"
            ],
            "application/vnd.google.colaboratory.intrinsic+json": {
              "type": "string"
            }
          },
          "metadata": {},
          "execution_count": 17
        }
      ]
    },
    {
      "cell_type": "code",
      "source": [
        "'' or  'world'"
      ],
      "metadata": {
        "id": "9SnhsPyefczR",
        "outputId": "9b0b003b-4b59-43c7-edcc-2dce5709d395",
        "colab": {
          "base_uri": "https://localhost:8080/",
          "height": 35
        }
      },
      "execution_count": 18,
      "outputs": [
        {
          "output_type": "execute_result",
          "data": {
            "text/plain": [
              "'world'"
            ],
            "application/vnd.google.colaboratory.intrinsic+json": {
              "type": "string"
            }
          },
          "metadata": {},
          "execution_count": 18
        }
      ]
    },
    {
      "cell_type": "code",
      "source": [
        "'hello' and 'world'"
      ],
      "metadata": {
        "id": "jA77KFdtfc3O",
        "outputId": "48116bac-d968-47c3-86b6-7c7c1a7edd77",
        "colab": {
          "base_uri": "https://localhost:8080/",
          "height": 35
        }
      },
      "execution_count": 19,
      "outputs": [
        {
          "output_type": "execute_result",
          "data": {
            "text/plain": [
              "'world'"
            ],
            "application/vnd.google.colaboratory.intrinsic+json": {
              "type": "string"
            }
          },
          "metadata": {},
          "execution_count": 19
        }
      ]
    },
    {
      "cell_type": "code",
      "source": [
        "not \"\""
      ],
      "metadata": {
        "id": "KlDcZLDHgGDT",
        "outputId": "c1b9ed16-6b26-47a3-f1dc-2e6c31b42885",
        "colab": {
          "base_uri": "https://localhost:8080/"
        }
      },
      "execution_count": 20,
      "outputs": [
        {
          "output_type": "execute_result",
          "data": {
            "text/plain": [
              "True"
            ]
          },
          "metadata": {},
          "execution_count": 20
        }
      ]
    },
    {
      "cell_type": "code",
      "source": [
        "not 'hello'"
      ],
      "metadata": {
        "id": "svZbF8hGgGGO",
        "outputId": "d1b03b69-c126-41ef-a5a6-1b51c5683659",
        "colab": {
          "base_uri": "https://localhost:8080/"
        }
      },
      "execution_count": 21,
      "outputs": [
        {
          "output_type": "execute_result",
          "data": {
            "text/plain": [
              "False"
            ]
          },
          "metadata": {},
          "execution_count": 21
        }
      ]
    },
    {
      "cell_type": "code",
      "source": [
        "for i in 'hello':\n",
        " print(i)"
      ],
      "metadata": {
        "id": "FB19usbRgGKT",
        "outputId": "da507da2-34fb-4f34-923e-b2fbb0cbb936",
        "colab": {
          "base_uri": "https://localhost:8080/"
        }
      },
      "execution_count": 22,
      "outputs": [
        {
          "output_type": "stream",
          "name": "stdout",
          "text": [
            "h\n",
            "e\n",
            "l\n",
            "l\n",
            "o\n"
          ]
        }
      ]
    },
    {
      "cell_type": "code",
      "source": [
        "for i in 'delhi':\n",
        "  print('pune')"
      ],
      "metadata": {
        "id": "kyGUuAdDgGMy",
        "outputId": "13ef5987-1531-4464-bebc-ad963176ff11",
        "colab": {
          "base_uri": "https://localhost:8080/"
        }
      },
      "execution_count": 23,
      "outputs": [
        {
          "output_type": "stream",
          "name": "stdout",
          "text": [
            "pune\n",
            "pune\n",
            "pune\n",
            "pune\n",
            "pune\n"
          ]
        }
      ]
    },
    {
      "cell_type": "code",
      "source": [
        "for i in 'balaghat':\n",
        "  print('newargaon')"
      ],
      "metadata": {
        "id": "65OEUwaNiGOG",
        "outputId": "49049734-bf63-404a-b089-8ccf9bb76aa4",
        "colab": {
          "base_uri": "https://localhost:8080/"
        }
      },
      "execution_count": 30,
      "outputs": [
        {
          "output_type": "stream",
          "name": "stdout",
          "text": [
            "newargaon\n",
            "newargaon\n",
            "newargaon\n",
            "newargaon\n",
            "newargaon\n",
            "newargaon\n",
            "newargaon\n",
            "newargaon\n"
          ]
        }
      ]
    },
    {
      "cell_type": "code",
      "source": [
        "'D' in 'delhi'"
      ],
      "metadata": {
        "id": "0iT0AcUuinJ4",
        "outputId": "16c01da6-4145-42a6-fec1-c4c58945aaed",
        "colab": {
          "base_uri": "https://localhost:8080/"
        }
      },
      "execution_count": 32,
      "outputs": [
        {
          "output_type": "execute_result",
          "data": {
            "text/plain": [
              "False"
            ]
          },
          "metadata": {},
          "execution_count": 32
        }
      ]
    },
    {
      "cell_type": "code",
      "source": [
        "# common function\n"
      ],
      "metadata": {
        "id": "uOlXARSSinMo"
      },
      "execution_count": null,
      "outputs": []
    },
    {
      "cell_type": "code",
      "source": [
        "# len\n",
        "#max\n",
        "# min\n",
        "#sorted\n"
      ],
      "metadata": {
        "id": "JvLRu5ICinPS"
      },
      "execution_count": null,
      "outputs": []
    },
    {
      "cell_type": "code",
      "source": [
        "len(' hello world')"
      ],
      "metadata": {
        "id": "Fxe7UNGVjC_L",
        "outputId": "e046a205-f4db-4672-8c51-c3582a6f3c72",
        "colab": {
          "base_uri": "https://localhost:8080/"
        }
      },
      "execution_count": 33,
      "outputs": [
        {
          "output_type": "execute_result",
          "data": {
            "text/plain": [
              "12"
            ]
          },
          "metadata": {},
          "execution_count": 33
        }
      ]
    },
    {
      "cell_type": "code",
      "source": [
        "max('hello rrrr')"
      ],
      "metadata": {
        "id": "FsBhRQn8jDCG",
        "outputId": "2ff4f243-e103-4ab2-8d5b-b4881efa5496",
        "colab": {
          "base_uri": "https://localhost:8080/",
          "height": 35
        }
      },
      "execution_count": 34,
      "outputs": [
        {
          "output_type": "execute_result",
          "data": {
            "text/plain": [
              "'r'"
            ],
            "application/vnd.google.colaboratory.intrinsic+json": {
              "type": "string"
            }
          },
          "metadata": {},
          "execution_count": 34
        }
      ]
    },
    {
      "cell_type": "code",
      "source": [
        "min('sakkshhii')"
      ],
      "metadata": {
        "id": "_MnkLBaojDhq",
        "outputId": "13cc22f1-7538-44c6-91de-e05f20146a5d",
        "colab": {
          "base_uri": "https://localhost:8080/",
          "height": 35
        }
      },
      "execution_count": 38,
      "outputs": [
        {
          "output_type": "execute_result",
          "data": {
            "text/plain": [
              "'a'"
            ],
            "application/vnd.google.colaboratory.intrinsic+json": {
              "type": "string"
            }
          },
          "metadata": {},
          "execution_count": 38
        }
      ]
    },
    {
      "cell_type": "code",
      "source": [
        "sorted('hello world')"
      ],
      "metadata": {
        "id": "-eJMHUx6jDkb",
        "outputId": "24510248-463d-4010-e24d-6867c86bb3a4",
        "colab": {
          "base_uri": "https://localhost:8080/"
        }
      },
      "execution_count": 39,
      "outputs": [
        {
          "output_type": "execute_result",
          "data": {
            "text/plain": [
              "[' ', 'd', 'e', 'h', 'l', 'l', 'l', 'o', 'o', 'r', 'w']"
            ]
          },
          "metadata": {},
          "execution_count": 39
        }
      ]
    },
    {
      "cell_type": "code",
      "source": [
        "sorted('hello sakshi', reverse=True)"
      ],
      "metadata": {
        "id": "yaQOgtbzjDnG",
        "outputId": "fbf98930-732c-4895-dddf-3b2697289703",
        "colab": {
          "base_uri": "https://localhost:8080/"
        }
      },
      "execution_count": 40,
      "outputs": [
        {
          "output_type": "execute_result",
          "data": {
            "text/plain": [
              "['s', 's', 'o', 'l', 'l', 'k', 'i', 'h', 'h', 'e', 'a', ' ']"
            ]
          },
          "metadata": {},
          "execution_count": 40
        }
      ]
    },
    {
      "cell_type": "code",
      "source": [
        "s = 'hello world'\n",
        "s.capitalize()"
      ],
      "metadata": {
        "id": "oE57zFfxj1r9",
        "outputId": "11fd49c8-d8d2-4fbb-e969-8f2187cfbe61",
        "colab": {
          "base_uri": "https://localhost:8080/",
          "height": 35
        }
      },
      "execution_count": 43,
      "outputs": [
        {
          "output_type": "execute_result",
          "data": {
            "text/plain": [
              "'Hello world'"
            ],
            "application/vnd.google.colaboratory.intrinsic+json": {
              "type": "string"
            }
          },
          "metadata": {},
          "execution_count": 43
        }
      ]
    },
    {
      "cell_type": "code",
      "source": [
        "s.title()"
      ],
      "metadata": {
        "id": "wjx6YJEFj1xb",
        "outputId": "c1b8f861-6a52-4e36-dce0-1db7ac610026",
        "colab": {
          "base_uri": "https://localhost:8080/",
          "height": 35
        }
      },
      "execution_count": 44,
      "outputs": [
        {
          "output_type": "execute_result",
          "data": {
            "text/plain": [
              "'Hello World'"
            ],
            "application/vnd.google.colaboratory.intrinsic+json": {
              "type": "string"
            }
          },
          "metadata": {},
          "execution_count": 44
        }
      ]
    },
    {
      "cell_type": "code",
      "source": [
        "s.upper()"
      ],
      "metadata": {
        "id": "c-gfontBj10l",
        "outputId": "83c36c73-d400-4b45-f6cf-624a88719ba1",
        "colab": {
          "base_uri": "https://localhost:8080/",
          "height": 35
        }
      },
      "execution_count": 45,
      "outputs": [
        {
          "output_type": "execute_result",
          "data": {
            "text/plain": [
              "'HELLO WORLD'"
            ],
            "application/vnd.google.colaboratory.intrinsic+json": {
              "type": "string"
            }
          },
          "metadata": {},
          "execution_count": 45
        }
      ]
    },
    {
      "cell_type": "code",
      "source": [
        "s.lower()"
      ],
      "metadata": {
        "id": "EsoTxh7vj12m",
        "outputId": "dc8c7a98-ddf7-49c5-be24-bcfef4978b4b",
        "colab": {
          "base_uri": "https://localhost:8080/",
          "height": 35
        }
      },
      "execution_count": 48,
      "outputs": [
        {
          "output_type": "execute_result",
          "data": {
            "text/plain": [
              "'hello world'"
            ],
            "application/vnd.google.colaboratory.intrinsic+json": {
              "type": "string"
            }
          },
          "metadata": {},
          "execution_count": 48
        }
      ]
    },
    {
      "cell_type": "code",
      "source": [
        "'Helo world'.swapcase()"
      ],
      "metadata": {
        "id": "p42sCduNkutT",
        "outputId": "aaf4f4ff-4a55-4d37-baae-b20fa6d10ab1",
        "colab": {
          "base_uri": "https://localhost:8080/",
          "height": 35
        }
      },
      "execution_count": 49,
      "outputs": [
        {
          "output_type": "execute_result",
          "data": {
            "text/plain": [
              "'hELO WORLD'"
            ],
            "application/vnd.google.colaboratory.intrinsic+json": {
              "type": "string"
            }
          },
          "metadata": {},
          "execution_count": 49
        }
      ]
    },
    {
      "cell_type": "code",
      "source": [
        "'my name is  nitish'.count('i')"
      ],
      "metadata": {
        "id": "r9kevqmdkuwx",
        "outputId": "919d54a1-b6f4-442d-f176-6ddc8b1f20be",
        "colab": {
          "base_uri": "https://localhost:8080/"
        }
      },
      "execution_count": 50,
      "outputs": [
        {
          "output_type": "execute_result",
          "data": {
            "text/plain": [
              "3"
            ]
          },
          "metadata": {},
          "execution_count": 50
        }
      ]
    },
    {
      "cell_type": "code",
      "source": [
        "'my name is nitish'.find('is')"
      ],
      "metadata": {
        "id": "aRdAOssJkuz4",
        "outputId": "be5e1195-27a1-4cd7-d7be-5ffef8a170f6",
        "colab": {
          "base_uri": "https://localhost:8080/"
        }
      },
      "execution_count": 51,
      "outputs": [
        {
          "output_type": "execute_result",
          "data": {
            "text/plain": [
              "8"
            ]
          },
          "metadata": {},
          "execution_count": 51
        }
      ]
    },
    {
      "cell_type": "code",
      "source": [
        "'my name is sakshi'.find('x')"
      ],
      "metadata": {
        "id": "L3wv1hEblPrc",
        "outputId": "af7a8680-96ea-4af5-be84-66a366ded1f9",
        "colab": {
          "base_uri": "https://localhost:8080/"
        }
      },
      "execution_count": 52,
      "outputs": [
        {
          "output_type": "execute_result",
          "data": {
            "text/plain": [
              "-1"
            ]
          },
          "metadata": {},
          "execution_count": 52
        }
      ]
    },
    {
      "cell_type": "code",
      "source": [
        "'my name is nitish'.index('x')"
      ],
      "metadata": {
        "id": "nMWUfllGlPtn",
        "outputId": "a41c52fe-db2d-4895-da78-117e1c3580d8",
        "colab": {
          "base_uri": "https://localhost:8080/",
          "height": 141
        }
      },
      "execution_count": 53,
      "outputs": [
        {
          "output_type": "error",
          "ename": "ValueError",
          "evalue": "substring not found",
          "traceback": [
            "\u001b[0;31m---------------------------------------------------------------------------\u001b[0m",
            "\u001b[0;31mValueError\u001b[0m                                Traceback (most recent call last)",
            "\u001b[0;32m<ipython-input-53-12e2ad5b75e9>\u001b[0m in \u001b[0;36m<cell line: 0>\u001b[0;34m()\u001b[0m\n\u001b[0;32m----> 1\u001b[0;31m \u001b[0;34m'my name is nitish'\u001b[0m\u001b[0;34m.\u001b[0m\u001b[0mindex\u001b[0m\u001b[0;34m(\u001b[0m\u001b[0;34m'x'\u001b[0m\u001b[0;34m)\u001b[0m\u001b[0;34m\u001b[0m\u001b[0;34m\u001b[0m\u001b[0m\n\u001b[0m",
            "\u001b[0;31mValueError\u001b[0m: substring not found"
          ]
        }
      ]
    },
    {
      "cell_type": "code",
      "source": [
        "'my name is sakshi'.endswith('sho')"
      ],
      "metadata": {
        "id": "VQJwOblNlPvp",
        "outputId": "59a9ad4e-9e0c-4969-bd56-2d88ef20dc3a",
        "colab": {
          "base_uri": "https://localhost:8080/"
        }
      },
      "execution_count": 54,
      "outputs": [
        {
          "output_type": "execute_result",
          "data": {
            "text/plain": [
              "False"
            ]
          },
          "metadata": {},
          "execution_count": 54
        }
      ]
    },
    {
      "cell_type": "code",
      "source": [
        "'my name is sakshi'.startswith('my')"
      ],
      "metadata": {
        "id": "0p2N93aBlPx_",
        "outputId": "57ccccf0-39f6-446e-fc48-c09cd598fa43",
        "colab": {
          "base_uri": "https://localhost:8080/"
        }
      },
      "execution_count": 55,
      "outputs": [
        {
          "output_type": "execute_result",
          "data": {
            "text/plain": [
              "True"
            ]
          },
          "metadata": {},
          "execution_count": 55
        }
      ]
    },
    {
      "cell_type": "code",
      "source": [],
      "metadata": {
        "id": "gRD7aghQqTFN"
      },
      "execution_count": null,
      "outputs": []
    },
    {
      "cell_type": "code",
      "source": [
        "name = 'nitish'\n",
        "gender = 'male'\n",
        "\n",
        "'Hi my name is {0} and I am a {1}'.format(name,gender)"
      ],
      "metadata": {
        "id": "CBAeixOIlP0T",
        "outputId": "1b857737-1984-46f2-d08d-0f5dfaf34cee",
        "colab": {
          "base_uri": "https://localhost:8080/",
          "height": 35
        }
      },
      "execution_count": 63,
      "outputs": [
        {
          "output_type": "execute_result",
          "data": {
            "text/plain": [
              "'Hi my name is nitish and I am a male'"
            ],
            "application/vnd.google.colaboratory.intrinsic+json": {
              "type": "string"
            }
          },
          "metadata": {},
          "execution_count": 63
        }
      ]
    },
    {
      "cell_type": "code",
      "source": [
        "'nitish1234'.isalnum()"
      ],
      "metadata": {
        "id": "SwjrfduSqWLS",
        "outputId": "df2d7648-53de-4f94-d129-3b27861aa125",
        "colab": {
          "base_uri": "https://localhost:8080/"
        }
      },
      "execution_count": 64,
      "outputs": [
        {
          "output_type": "execute_result",
          "data": {
            "text/plain": [
              "True"
            ]
          },
          "metadata": {},
          "execution_count": 64
        }
      ]
    },
    {
      "cell_type": "code",
      "source": [
        "'nitish356%'.isalnum()"
      ],
      "metadata": {
        "id": "AYJsUu_OqWNp",
        "outputId": "3ba48f43-c5f5-4a80-a9a6-45ef351b9750",
        "colab": {
          "base_uri": "https://localhost:8080/"
        }
      },
      "execution_count": 66,
      "outputs": [
        {
          "output_type": "execute_result",
          "data": {
            "text/plain": [
              "False"
            ]
          },
          "metadata": {},
          "execution_count": 66
        }
      ]
    },
    {
      "cell_type": "code",
      "source": [
        "'sakshi'.isalpha()"
      ],
      "metadata": {
        "id": "SaenZG0tqWQR",
        "outputId": "7e377a14-274a-4a55-ec8e-e49c07dfd64f",
        "colab": {
          "base_uri": "https://localhost:8080/"
        }
      },
      "execution_count": 67,
      "outputs": [
        {
          "output_type": "execute_result",
          "data": {
            "text/plain": [
              "True"
            ]
          },
          "metadata": {},
          "execution_count": 67
        }
      ]
    },
    {
      "cell_type": "code",
      "source": [
        "'123abs'.isdigit()"
      ],
      "metadata": {
        "id": "gYB_6GtFqWSn",
        "outputId": "04705200-e464-43ce-9ceb-1c18d7a8f3a0",
        "colab": {
          "base_uri": "https://localhost:8080/"
        }
      },
      "execution_count": 68,
      "outputs": [
        {
          "output_type": "execute_result",
          "data": {
            "text/plain": [
              "False"
            ]
          },
          "metadata": {},
          "execution_count": 68
        }
      ]
    },
    {
      "cell_type": "code",
      "source": [
        "'first_name'.isidentifier()"
      ],
      "metadata": {
        "id": "i-3UdA6IqWVm",
        "outputId": "a8e43735-c7ac-4527-c05d-a88c7b848b5a",
        "colab": {
          "base_uri": "https://localhost:8080/"
        }
      },
      "execution_count": 69,
      "outputs": [
        {
          "output_type": "execute_result",
          "data": {
            "text/plain": [
              "True"
            ]
          },
          "metadata": {},
          "execution_count": 69
        }
      ]
    },
    {
      "cell_type": "code",
      "source": [
        "'ffirst-name'.isidentifier()"
      ],
      "metadata": {
        "id": "g7igC1DHr8fb",
        "outputId": "387b561b-dab2-41c8-9998-8c7d55c34721",
        "colab": {
          "base_uri": "https://localhost:8080/"
        }
      },
      "execution_count": 70,
      "outputs": [
        {
          "output_type": "execute_result",
          "data": {
            "text/plain": [
              "False"
            ]
          },
          "metadata": {},
          "execution_count": 70
        }
      ]
    },
    {
      "cell_type": "code",
      "source": [
        "# split/join\n",
        "'hi my name is sakshi'.split('i')"
      ],
      "metadata": {
        "id": "VjtRzdnyr8iN",
        "outputId": "c651a4a1-7720-491c-d90e-67621c7f62b1",
        "colab": {
          "base_uri": "https://localhost:8080/"
        }
      },
      "execution_count": 72,
      "outputs": [
        {
          "output_type": "execute_result",
          "data": {
            "text/plain": [
              "['h', ' my name ', 's saksh', '']"
            ]
          },
          "metadata": {},
          "execution_count": 72
        }
      ]
    },
    {
      "cell_type": "code",
      "source": [
        "\"\".join(['hi', 'my', 'name', 'is','sakshi'])"
      ],
      "metadata": {
        "id": "3VKUQTOHr8kr",
        "outputId": "8f12188e-493b-4b58-c17a-74115476bb46",
        "colab": {
          "base_uri": "https://localhost:8080/",
          "height": 35
        }
      },
      "execution_count": 73,
      "outputs": [
        {
          "output_type": "execute_result",
          "data": {
            "text/plain": [
              "'himynameissakshi'"
            ],
            "application/vnd.google.colaboratory.intrinsic+json": {
              "type": "string"
            }
          },
          "metadata": {},
          "execution_count": 73
        }
      ]
    },
    {
      "cell_type": "code",
      "source": [
        "' hi my name is sakshi'.replace('nitish','campusx')"
      ],
      "metadata": {
        "id": "q5vr-ZgXr8na",
        "outputId": "7897c06c-2616-410f-a6ea-d132e3b63e73",
        "colab": {
          "base_uri": "https://localhost:8080/",
          "height": 35
        }
      },
      "execution_count": 74,
      "outputs": [
        {
          "output_type": "execute_result",
          "data": {
            "text/plain": [
              "' hi my name is sakshi'"
            ],
            "application/vnd.google.colaboratory.intrinsic+json": {
              "type": "string"
            }
          },
          "metadata": {},
          "execution_count": 74
        }
      ]
    },
    {
      "cell_type": "code",
      "source": [
        "# strip\n",
        "\n",
        "'sakshi      '.strip()"
      ],
      "metadata": {
        "id": "SxgkDhHZs481",
        "outputId": "628aa2b1-95d7-472e-cdc1-2afc9c68fa7e",
        "colab": {
          "base_uri": "https://localhost:8080/",
          "height": 35
        }
      },
      "execution_count": 75,
      "outputs": [
        {
          "output_type": "execute_result",
          "data": {
            "text/plain": [
              "'sakshi'"
            ],
            "application/vnd.google.colaboratory.intrinsic+json": {
              "type": "string"
            }
          },
          "metadata": {},
          "execution_count": 75
        }
      ]
    },
    {
      "cell_type": "code",
      "source": [],
      "metadata": {
        "id": "C4mtLoies4_v"
      },
      "execution_count": null,
      "outputs": []
    },
    {
      "cell_type": "code",
      "source": [],
      "metadata": {
        "id": "9Iior9LIs5CB"
      },
      "execution_count": null,
      "outputs": []
    },
    {
      "cell_type": "code",
      "source": [],
      "metadata": {
        "id": "rfAsLcz3s5Ex"
      },
      "execution_count": null,
      "outputs": []
    },
    {
      "cell_type": "code",
      "source": [],
      "metadata": {
        "id": "1Bs57aOus5HD"
      },
      "execution_count": null,
      "outputs": []
    }
  ]
}