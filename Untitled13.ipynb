{
  "nbformat": 4,
  "nbformat_minor": 0,
  "metadata": {
    "colab": {
      "provenance": [],
      "authorship_tag": "ABX9TyPzxaVQkqxpBRAMGv1cPSSf",
      "include_colab_link": true
    },
    "kernelspec": {
      "name": "python3",
      "display_name": "Python 3"
    },
    "language_info": {
      "name": "python"
    }
  },
  "cells": [
    {
      "cell_type": "markdown",
      "metadata": {
        "id": "view-in-github",
        "colab_type": "text"
      },
      "source": [
        "<a href=\"https://colab.research.google.com/github/sakshirahangadale/CAA/blob/main/Untitled13.ipynb\" target=\"_parent\"><img src=\"https://colab.research.google.com/assets/colab-badge.svg\" alt=\"Open In Colab\"/></a>"
      ]
    },
    {
      "cell_type": "code",
      "execution_count": 10,
      "metadata": {
        "id": "M0xDppyeqmfK",
        "colab": {
          "base_uri": "https://localhost:8080/"
        },
        "outputId": "5c106f9a-9299-4a3a-f5e6-a7cbf1c119e7"
      },
      "outputs": [
        {
          "output_type": "stream",
          "name": "stdout",
          "text": [
            "     **********          **********\n",
            "    ************        ************\n",
            "   **************      **************\n",
            "  ****************    ****************\n",
            " ******************  ******************\n",
            "***************************************\n",
            " *************************************\n",
            "  ***********************************\n",
            "   *********************************\n",
            "    *******************************\n",
            "     *****************************\n",
            "      ***************************\n",
            "       *************************\n",
            "        ***********************\n",
            "         *********************\n",
            "          *******************\n",
            "           *****************\n",
            "            ***************\n",
            "             *************\n",
            "              ***********\n",
            "               *********\n",
            "                *******\n",
            "                 *****\n",
            "                  ***\n",
            "                   *\n"
          ]
        }
      ],
      "source": [
        "n = 20\n",
        "\n",
        "for i in range(n//2, n, 2):\n",
        "    for j in range(1, n - i, 2):\n",
        "        print(\" \",end=\"\")\n",
        "    for j in range(1, i+1):\n",
        "        print(\"*\", end=\"\")\n",
        "\n",
        "    for j in range(1, n-i+1):\n",
        "        print(\" \", end=\"\")\n",
        "    for j in range(1, i+1):\n",
        "        print(\"*\", end=\"\")\n",
        "\n",
        "    print()\n",
        "for i in range(n, 0, -1):\n",
        "    for j in range(n-i):\n",
        "        print(\" \", end=\"\")\n",
        "    for j in range(2*i-1):\n",
        "        print(\"*\" , end=\"\")\n",
        "    print()\n"
      ]
    },
    {
      "cell_type": "code",
      "source": [
        "rows = int(input('enter number of rows'))\n",
        "for i in range(1, rows +1):\n",
        "  for j in range(1,i+1):\n",
        "    print(j, end=\"\")\n",
        "  for k in range(i-1,0,-1):\n",
        "    print(k, end='')\n",
        "  print()\n"
      ],
      "metadata": {
        "colab": {
          "base_uri": "https://localhost:8080/"
        },
        "id": "XUaZfXlciD6x",
        "outputId": "b2b6c47d-633d-40ad-bc19-d97ebfded3c7"
      },
      "execution_count": 22,
      "outputs": [
        {
          "output_type": "stream",
          "name": "stdout",
          "text": [
            "enter number of rows9\n",
            "1\n",
            "121\n",
            "12321\n",
            "1234321\n",
            "123454321\n",
            "12345654321\n",
            "1234567654321\n",
            "123456787654321\n",
            "12345678987654321\n"
          ]
        }
      ]
    },
    {
      "cell_type": "code",
      "source": [
        "for i in range(1,100):\n",
        "  if i ==50:\n",
        "    break\n",
        "\n",
        "\n",
        "  print(i)"
      ],
      "metadata": {
        "colab": {
          "base_uri": "https://localhost:8080/"
        },
        "id": "I6xiBT8QknnT",
        "outputId": "39fde5a5-1866-426d-9d9f-5cb2da812713"
      },
      "execution_count": 27,
      "outputs": [
        {
          "output_type": "stream",
          "name": "stdout",
          "text": [
            "1\n",
            "2\n",
            "3\n",
            "4\n",
            "5\n",
            "6\n",
            "7\n",
            "8\n",
            "9\n",
            "10\n",
            "11\n",
            "12\n",
            "13\n",
            "14\n",
            "15\n",
            "16\n",
            "17\n",
            "18\n",
            "19\n",
            "20\n",
            "21\n",
            "22\n",
            "23\n",
            "24\n",
            "25\n",
            "26\n",
            "27\n",
            "28\n",
            "29\n",
            "30\n",
            "31\n",
            "32\n",
            "33\n",
            "34\n",
            "35\n",
            "36\n",
            "37\n",
            "38\n",
            "39\n",
            "40\n",
            "41\n",
            "42\n",
            "43\n",
            "44\n",
            "45\n",
            "46\n",
            "47\n",
            "48\n",
            "49\n"
          ]
        }
      ]
    },
    {
      "cell_type": "code",
      "source": [
        "lower = int(input('enter lower range'))\n",
        "upper = int(input('enter upper range'))\n",
        "\n",
        "for i in range(lower,upper+1):\n",
        "  for j in range(2,i):\n",
        "    if i%2==0:\n",
        "      break\n",
        "  else:\n",
        "    print(i)"
      ],
      "metadata": {
        "id": "PBs5bQoil4qb",
        "outputId": "6f6a1ac7-f86c-420c-fe14-4dce6c3c4a00",
        "colab": {
          "base_uri": "https://localhost:8080/"
        }
      },
      "execution_count": 31,
      "outputs": [
        {
          "output_type": "stream",
          "name": "stdout",
          "text": [
            "enter lower range10\n",
            "enter upper range100\n",
            "11\n",
            "13\n",
            "15\n",
            "17\n",
            "19\n",
            "21\n",
            "23\n",
            "25\n",
            "27\n",
            "29\n",
            "31\n",
            "33\n",
            "35\n",
            "37\n",
            "39\n",
            "41\n",
            "43\n",
            "45\n",
            "47\n",
            "49\n",
            "51\n",
            "53\n",
            "55\n",
            "57\n",
            "59\n",
            "61\n",
            "63\n",
            "65\n",
            "67\n",
            "69\n",
            "71\n",
            "73\n",
            "75\n",
            "77\n",
            "79\n",
            "81\n",
            "83\n",
            "85\n",
            "87\n",
            "89\n",
            "91\n",
            "93\n",
            "95\n",
            "97\n",
            "99\n"
          ]
        }
      ]
    },
    {
      "cell_type": "code",
      "source": [],
      "metadata": {
        "id": "UlbitnSll4tN"
      },
      "execution_count": null,
      "outputs": []
    },
    {
      "cell_type": "code",
      "source": [],
      "metadata": {
        "id": "pFJOi05fl4vf"
      },
      "execution_count": null,
      "outputs": []
    },
    {
      "cell_type": "code",
      "source": [],
      "metadata": {
        "id": "qvt07sg5l407"
      },
      "execution_count": null,
      "outputs": []
    },
    {
      "cell_type": "code",
      "source": [],
      "metadata": {
        "id": "8KEkiCYol43N"
      },
      "execution_count": null,
      "outputs": []
    }
  ]
}