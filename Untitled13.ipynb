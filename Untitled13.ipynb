{
  "nbformat": 4,
  "nbformat_minor": 0,
  "metadata": {
    "colab": {
      "provenance": [],
      "authorship_tag": "ABX9TyP94WpKpJepgPPDA8ScCY/y",
      "include_colab_link": true
    },
    "kernelspec": {
      "name": "python3",
      "display_name": "Python 3"
    },
    "language_info": {
      "name": "python"
    }
  },
  "cells": [
    {
      "cell_type": "markdown",
      "metadata": {
        "id": "view-in-github",
        "colab_type": "text"
      },
      "source": [
        "<a href=\"https://colab.research.google.com/github/sakshirahangadale/CAA/blob/main/Untitled13.ipynb\" target=\"_parent\"><img src=\"https://colab.research.google.com/assets/colab-badge.svg\" alt=\"Open In Colab\"/></a>"
      ]
    },
    {
      "cell_type": "code",
      "execution_count": 10,
      "metadata": {
        "id": "M0xDppyeqmfK",
        "colab": {
          "base_uri": "https://localhost:8080/"
        },
        "outputId": "5c106f9a-9299-4a3a-f5e6-a7cbf1c119e7"
      },
      "outputs": [
        {
          "output_type": "stream",
          "name": "stdout",
          "text": [
            "     **********          **********\n",
            "    ************        ************\n",
            "   **************      **************\n",
            "  ****************    ****************\n",
            " ******************  ******************\n",
            "***************************************\n",
            " *************************************\n",
            "  ***********************************\n",
            "   *********************************\n",
            "    *******************************\n",
            "     *****************************\n",
            "      ***************************\n",
            "       *************************\n",
            "        ***********************\n",
            "         *********************\n",
            "          *******************\n",
            "           *****************\n",
            "            ***************\n",
            "             *************\n",
            "              ***********\n",
            "               *********\n",
            "                *******\n",
            "                 *****\n",
            "                  ***\n",
            "                   *\n"
          ]
        }
      ],
      "source": [
        "n = 20\n",
        "\n",
        "for i in range(n//2, n, 2):\n",
        "    for j in range(1, n - i, 2):\n",
        "        print(\" \",end=\"\")\n",
        "    for j in range(1, i+1):\n",
        "        print(\"*\", end=\"\")\n",
        "\n",
        "    for j in range(1, n-i+1):\n",
        "        print(\" \", end=\"\")\n",
        "    for j in range(1, i+1):\n",
        "        print(\"*\", end=\"\")\n",
        "\n",
        "    print()\n",
        "for i in range(n, 0, -1):\n",
        "    for j in range(n-i):\n",
        "        print(\" \", end=\"\")\n",
        "    for j in range(2*i-1):\n",
        "        print(\"*\" , end=\"\")\n",
        "    print()\n"
      ]
    },
    {
      "cell_type": "code",
      "source": [
        "rows = int(input('enter number of rows'))\n",
        "for i in range(1, rows +1):\n",
        "  for j in range(1,i+1):\n",
        "    print(j, end=\"\")\n",
        "  for k in range(i-1,0,-1):\n",
        "    print(k, end='')\n",
        "  print()\n"
      ],
      "metadata": {
        "id": "XUaZfXlciD6x",
        "outputId": "b2b6c47d-633d-40ad-bc19-d97ebfded3c7",
        "colab": {
          "base_uri": "https://localhost:8080/"
        }
      },
      "execution_count": 22,
      "outputs": [
        {
          "output_type": "stream",
          "name": "stdout",
          "text": [
            "enter number of rows9\n",
            "1\n",
            "121\n",
            "12321\n",
            "1234321\n",
            "123454321\n",
            "12345654321\n",
            "1234567654321\n",
            "123456787654321\n",
            "12345678987654321\n"
          ]
        }
      ]
    },
    {
      "cell_type": "code",
      "source": [],
      "metadata": {
        "id": "E2tlLM_pkniz"
      },
      "execution_count": null,
      "outputs": []
    },
    {
      "cell_type": "code",
      "source": [],
      "metadata": {
        "id": "I6xiBT8QknnT"
      },
      "execution_count": null,
      "outputs": []
    }
  ]
}